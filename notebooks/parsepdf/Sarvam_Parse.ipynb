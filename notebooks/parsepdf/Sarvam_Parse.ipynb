{
 "cells": [
  {
   "cell_type": "markdown",
   "metadata": {
    "id": "0ia1I98U8tTQ"
   },
   "source": [
    "# **Sarvam Parse PDF API Tutorial**\n",
    "\n",
    "This notebook demonstrates how to use the **Sarvam Parse PDF API** to extract structured data from PDF files. The API allows you to parse PDFs and retrieve the content in HTML format, making it easy to extract and analyze data.\n",
    "\n",
    "\n",
    "\n",
    "# **1. Installation**\n",
    "\n",
    "Before you begin, ensure you have the necessary Python libraries installed. Run the following commands to install the required packages:\n"
   ]
  },
  {
   "cell_type": "code",
   "execution_count": null,
   "metadata": {
    "colab": {
     "base_uri": "https://localhost:8080/"
    },
    "id": "VM4W31HN8z7t",
    "outputId": "81fc3de3-fe22-4326-90ae-482f3ba906fe"
   },
   "outputs": [],
   "source": [
    "! pip install requests ipywidgets"
   ]
  },
  {
   "cell_type": "markdown",
   "metadata": {
    "id": "b84yIx1H-iht"
   },
   "source": [
    "## **2. Setting Up the API Key**\n",
    "\n",
    "To use the Sarvam PDF Parser API, you need an API subscription key. Follow these steps to set up your API key:\n",
    "\n",
    "1. **Obtain your API key**: If you don’t have an API key, sign up on the [Sarvam AI platform](https://api.sarvam.ai) to get one.\n",
    "2. **Enter your API key**: In the UI widget below, enter your API key in the \"API Key\" field.\n",
    "\n",
    "\n",
    "## **3. Uploading PDF Files**\n",
    "\n",
    "To parse a PDF file, you need to upload it to the notebook. Follow these steps:\n",
    "\n",
    "1. **Prepare your PDF file**: Ensure your file is in `.pdf` format.\n",
    "2. **Upload the file**: Use the file upload widget below to upload your PDF file."
   ]
  },
  {
   "cell_type": "markdown",
   "metadata": {
    "id": "b06xcwEN9IVx"
   },
   "source": [
    "\n",
    "## **4. Using the Sarvam PDF Parser API**\n",
    "This section demonstrates how to use the Sarvam PDF Parser API to extract structured data from a PDF file.\n",
    "\n",
    "### **4.1. Defining the `parse_pdf` Function**\n",
    "\n",
    "The `parse_pdf` function sends the PDF file to the Sarvam API and retrieves the parsed content in HTML format."
   ]
  },
  {
   "cell_type": "code",
   "execution_count": 12,
   "metadata": {
    "id": "Pt3zb7JH9ZA5"
   },
   "outputs": [],
   "source": [
    "import requests\n",
    "import base64\n",
    "import tempfile\n",
    "import os\n",
    "\n",
    "\n",
    "def parse_pdf(pdf_file_path, page_number, sarvam_mode, api_key):\n",
    "\n",
    "    url = \"https://api.sarvam.ai/parse/parsepdf\"\n",
    "    headers = {\"api-subscription-key\": api_key}\n",
    "\n",
    "    try:\n",
    "        with open(pdf_file_path, \"rb\") as pdf_file:\n",
    "            files = {\n",
    "                \"pdf\": (\"file.pdf\", pdf_file, \"application/pdf\"),\n",
    "                \"page_number\": (None, str(page_number)),\n",
    "                \"sarvam_mode\": (None, sarvam_mode),\n",
    "            }\n",
    "\n",
    "            response = requests.post(url, headers=headers, files=files)\n",
    "\n",
    "            if response.status_code == 200:\n",
    "                output = response.json().get(\"output\", \"\")\n",
    "                if output:\n",
    "                    return base64.b64decode(output).decode(\n",
    "                        \"utf-8\"\n",
    "                    )  # Return decoded HTML\n",
    "                else:\n",
    "                    return \"Parsing failed. No data returned.\"\n",
    "            else:\n",
    "                return f\"❌ API Error ({response.status_code}): {response.text}\"\n",
    "\n",
    "    except Exception as e:\n",
    "        return f\"⚠️ An error occurred: {str(e)}\""
   ]
  },
  {
   "cell_type": "markdown",
   "metadata": {
    "id": "9fGTIk_t9c8x"
   },
   "source": [
    "### **4.2. Creating the UI Widgets**\n",
    "\n",
    "The following code creates interactive UI widgets for uploading the PDF file, selecting the page number, choosing the parsing mode, and entering the API key."
   ]
  },
  {
   "cell_type": "code",
   "execution_count": 13,
   "metadata": {
    "id": "-nOZudDy9l6Y"
   },
   "outputs": [],
   "source": [
    "import ipywidgets as widgets\n",
    "from IPython.display import display, HTML\n",
    "from google.colab import files\n",
    "\n",
    "# UI Widgets\n",
    "upload_widget = widgets.FileUpload(accept=\".pdf\", multiple=False)\n",
    "page_number_widget = widgets.IntText(value=1, description=\"Page No:\")\n",
    "sarvam_mode_widget = widgets.Dropdown(\n",
    "    options=[\"large\", \"small\"], value=\"small\", description=\"Mode:\"\n",
    ")\n",
    "api_key_widget = widgets.Password(description=\"API Key:\")\n",
    "parse_button = widgets.Button(description=\"Parse PDF\", button_style=\"primary\")"
   ]
  },
  {
   "cell_type": "markdown",
   "metadata": {
    "id": "P-O_Nqwu9qXn"
   },
   "source": [
    "\n",
    "### **4.3. Handling PDF Parsing**\n",
    "\n",
    "The `handle_parse` function processes the uploaded PDF file, calls the Sarvam API, and saves the parsed HTML content.\n",
    "\n"
   ]
  },
  {
   "cell_type": "code",
   "execution_count": 14,
   "metadata": {
    "id": "CQUje4fS94EF"
   },
   "outputs": [],
   "source": [
    "def handle_parse(_):\n",
    "    \"\"\"\n",
    "    Handles the PDF parsing process when the \"Parse PDF\" button is clicked.\n",
    "    \"\"\"\n",
    "    if upload_widget.value:\n",
    "        uploaded_filename = list(upload_widget.value.keys())[0]\n",
    "        file_content = upload_widget.value[uploaded_filename][\"content\"]\n",
    "\n",
    "        # Save the uploaded file temporarily\n",
    "        temp_pdf_path = os.path.join(tempfile.gettempdir(), uploaded_filename)\n",
    "        with open(temp_pdf_path, \"wb\") as temp_file:\n",
    "            temp_file.write(file_content)\n",
    "\n",
    "        # Get user inputs\n",
    "        page_number = page_number_widget.value\n",
    "        sarvam_mode = sarvam_mode_widget.value\n",
    "        api_key = api_key_widget.value\n",
    "\n",
    "        display(\n",
    "            HTML(f\"<p>📄 Processing <b>{uploaded_filename}</b>... Please wait.</p>\")\n",
    "        )\n",
    "\n",
    "        # Parse PDF\n",
    "        parsed_html = parse_pdf(temp_pdf_path, page_number, sarvam_mode, api_key)\n",
    "\n",
    "        # Save parsed HTML properly\n",
    "        output_html_path = \"parsed_output.html\"\n",
    "        with open(output_html_path, \"w\", encoding=\"utf-8\") as html_file:\n",
    "            html_file.write(parsed_html)\n",
    "\n",
    "        # Provide a download link\n",
    "        display(\n",
    "            HTML(\n",
    "                f\"\"\"\n",
    "        <p>✅ <b>Parsing complete!</b> The parsed HTML file has been downloaded.</p>\n",
    "        \"\"\"\n",
    "            )\n",
    "        )\n",
    "\n",
    "        # Enable file download\n",
    "        files.download(output_html_path)\n",
    "\n",
    "\n",
    "# Bind button click event\n",
    "parse_button.on_click(handle_parse)"
   ]
  },
  {
   "cell_type": "markdown",
   "metadata": {
    "id": "lAEn_-jE98fJ"
   },
   "source": [
    "### **4.4. Displaying the UI**\n",
    "\n",
    "This section displays the UI widgets for uploading the PDF file, entering the page number, selecting the parsing mode, and providing the API key."
   ]
  },
  {
   "cell_type": "code",
   "execution_count": null,
   "metadata": {
    "colab": {
     "base_uri": "https://localhost:8080/",
     "height": 239,
     "referenced_widgets": [
      "dba824e664df42f985dde8c636ac58ba",
      "4d9d8dff135b478a94ed30fa676db612",
      "1f433ff33cf44e078f6d1df2099d8887",
      "a6bc293a9158410c99622e13bc78f4b4",
      "f7080a5e978c4b15b8f3fdf9f8c8fe63",
      "546eae371e5b41b0a6ff07dbdff71c56",
      "e139e9b216e14127aa1a411e31adb3ca",
      "d78fb57791c24efb9daf31b0f8c2d5f3",
      "72c931136521423298edffdaf9677cb9",
      "8ed68cd2f21b4ed2a4c5ac72e9a4c6cd",
      "aaa4470e24b94cbb895a221015132bd7",
      "64801a4fca74497f822e5e937ee7bab5",
      "e20f697a08e840aeb74afe7934f75f6d",
      "d2446881bd834420b918a814924aae7d",
      "71d9868418ea4f2f99ba8b0438580e25"
     ]
    },
    "id": "JUCNZxy8-AAI",
    "outputId": "da0f628a-34bc-48f4-d2f8-904dad2b891f"
   },
   "outputs": [],
   "source": [
    "# Display UI\n",
    "display(\n",
    "    HTML(\n",
    "        \"<h3>📄 Sarvam PDF Parser</h3><p>Upload a PDF file, enter details, and click 'Parse PDF' to extract structured data.</p>\"\n",
    "    )\n",
    ")\n",
    "display(\n",
    "    upload_widget, page_number_widget, sarvam_mode_widget, api_key_widget, parse_button\n",
    ")"
   ]
  },
  {
   "cell_type": "markdown",
   "metadata": {
    "id": "pK8qTYed-Fn2"
   },
   "source": [
    "## **5. Conclusion**\n",
    "\n",
    "This notebook demonstrated how to use the **Sarvam PDF Parser API** to extract structured data from PDF files. By following the steps, you can:\n",
    "\n",
    "1. Upload a PDF file.\n",
    "2. Parse the file using the Sarvam API.\n",
    "3. Download the parsed HTML content for further analysis.\n",
    "\n",
    "---\n",
    "\n",
    "## **6. Additional Resources**\n",
    "\n",
    "For more details, refer to the official **Sarvam API documentation** and join the community for support:\n",
    "\n",
    "- **Documentation**: [docs.sarvam.ai](https://docs.sarvam.ai)  \n",
    "- **Community**: [Join the Discord Community](https://discord.gg/hTuVuPNF)\n",
    "\n",
    "---\n",
    "\n",
    "## **7. Final Notes**\n",
    "\n",
    "- Keep your API key secure.x\n",
    "- Explore advanced features like multi-page parsing and custom output formats.\n",
    "\n",
    "Happy parsing! 🚀\n"
   ]
  }
 ],
 "metadata": {
  "colab": {
   "provenance": []
  },
  "kernelspec": {
   "display_name": "Python 3",
   "name": "python3"
  },
  "language_info": {
   "name": "python"
  },
  "widgets": {
   "application/vnd.jupyter.widget-state+json": {
    "1f433ff33cf44e078f6d1df2099d8887": {
     "model_module": "@jupyter-widgets/controls",
     "model_module_version": "1.5.0",
     "model_name": "ButtonStyleModel",
     "state": {
      "_model_module": "@jupyter-widgets/controls",
      "_model_module_version": "1.5.0",
      "_model_name": "ButtonStyleModel",
      "_view_count": null,
      "_view_module": "@jupyter-widgets/base",
      "_view_module_version": "1.2.0",
      "_view_name": "StyleView",
      "button_color": null,
      "font_weight": ""
     }
    },
    "4d9d8dff135b478a94ed30fa676db612": {
     "model_module": "@jupyter-widgets/base",
     "model_module_version": "1.2.0",
     "model_name": "LayoutModel",
     "state": {
      "_model_module": "@jupyter-widgets/base",
      "_model_module_version": "1.2.0",
      "_model_name": "LayoutModel",
      "_view_count": null,
      "_view_module": "@jupyter-widgets/base",
      "_view_module_version": "1.2.0",
      "_view_name": "LayoutView",
      "align_content": null,
      "align_items": null,
      "align_self": null,
      "border": null,
      "bottom": null,
      "display": null,
      "flex": null,
      "flex_flow": null,
      "grid_area": null,
      "grid_auto_columns": null,
      "grid_auto_flow": null,
      "grid_auto_rows": null,
      "grid_column": null,
      "grid_gap": null,
      "grid_row": null,
      "grid_template_areas": null,
      "grid_template_columns": null,
      "grid_template_rows": null,
      "height": null,
      "justify_content": null,
      "justify_items": null,
      "left": null,
      "margin": null,
      "max_height": null,
      "max_width": null,
      "min_height": null,
      "min_width": null,
      "object_fit": null,
      "object_position": null,
      "order": null,
      "overflow": null,
      "overflow_x": null,
      "overflow_y": null,
      "padding": null,
      "right": null,
      "top": null,
      "visibility": null,
      "width": null
     }
    },
    "546eae371e5b41b0a6ff07dbdff71c56": {
     "model_module": "@jupyter-widgets/controls",
     "model_module_version": "1.5.0",
     "model_name": "DescriptionStyleModel",
     "state": {
      "_model_module": "@jupyter-widgets/controls",
      "_model_module_version": "1.5.0",
      "_model_name": "DescriptionStyleModel",
      "_view_count": null,
      "_view_module": "@jupyter-widgets/base",
      "_view_module_version": "1.2.0",
      "_view_name": "StyleView",
      "description_width": ""
     }
    },
    "64801a4fca74497f822e5e937ee7bab5": {
     "model_module": "@jupyter-widgets/controls",
     "model_module_version": "1.5.0",
     "model_name": "DescriptionStyleModel",
     "state": {
      "_model_module": "@jupyter-widgets/controls",
      "_model_module_version": "1.5.0",
      "_model_name": "DescriptionStyleModel",
      "_view_count": null,
      "_view_module": "@jupyter-widgets/base",
      "_view_module_version": "1.2.0",
      "_view_name": "StyleView",
      "description_width": ""
     }
    },
    "71d9868418ea4f2f99ba8b0438580e25": {
     "model_module": "@jupyter-widgets/controls",
     "model_module_version": "1.5.0",
     "model_name": "ButtonStyleModel",
     "state": {
      "_model_module": "@jupyter-widgets/controls",
      "_model_module_version": "1.5.0",
      "_model_name": "ButtonStyleModel",
      "_view_count": null,
      "_view_module": "@jupyter-widgets/base",
      "_view_module_version": "1.2.0",
      "_view_name": "StyleView",
      "button_color": null,
      "font_weight": ""
     }
    },
    "72c931136521423298edffdaf9677cb9": {
     "model_module": "@jupyter-widgets/controls",
     "model_module_version": "1.5.0",
     "model_name": "DescriptionStyleModel",
     "state": {
      "_model_module": "@jupyter-widgets/controls",
      "_model_module_version": "1.5.0",
      "_model_name": "DescriptionStyleModel",
      "_view_count": null,
      "_view_module": "@jupyter-widgets/base",
      "_view_module_version": "1.2.0",
      "_view_name": "StyleView",
      "description_width": ""
     }
    },
    "8ed68cd2f21b4ed2a4c5ac72e9a4c6cd": {
     "model_module": "@jupyter-widgets/controls",
     "model_module_version": "1.5.0",
     "model_name": "PasswordModel",
     "state": {
      "_dom_classes": [],
      "_model_module": "@jupyter-widgets/controls",
      "_model_module_version": "1.5.0",
      "_model_name": "PasswordModel",
      "_view_count": null,
      "_view_module": "@jupyter-widgets/controls",
      "_view_module_version": "1.5.0",
      "_view_name": "PasswordView",
      "continuous_update": true,
      "description": "API Key:",
      "description_tooltip": null,
      "disabled": false,
      "layout": "IPY_MODEL_aaa4470e24b94cbb895a221015132bd7",
      "placeholder": "​",
      "style": "IPY_MODEL_64801a4fca74497f822e5e937ee7bab5",
      "value": ""
     }
    },
    "a6bc293a9158410c99622e13bc78f4b4": {
     "model_module": "@jupyter-widgets/controls",
     "model_module_version": "1.5.0",
     "model_name": "IntTextModel",
     "state": {
      "_dom_classes": [],
      "_model_module": "@jupyter-widgets/controls",
      "_model_module_version": "1.5.0",
      "_model_name": "IntTextModel",
      "_view_count": null,
      "_view_module": "@jupyter-widgets/controls",
      "_view_module_version": "1.5.0",
      "_view_name": "IntTextView",
      "continuous_update": false,
      "description": "Page No:",
      "description_tooltip": null,
      "disabled": false,
      "layout": "IPY_MODEL_f7080a5e978c4b15b8f3fdf9f8c8fe63",
      "step": 1,
      "style": "IPY_MODEL_546eae371e5b41b0a6ff07dbdff71c56",
      "value": 1
     }
    },
    "aaa4470e24b94cbb895a221015132bd7": {
     "model_module": "@jupyter-widgets/base",
     "model_module_version": "1.2.0",
     "model_name": "LayoutModel",
     "state": {
      "_model_module": "@jupyter-widgets/base",
      "_model_module_version": "1.2.0",
      "_model_name": "LayoutModel",
      "_view_count": null,
      "_view_module": "@jupyter-widgets/base",
      "_view_module_version": "1.2.0",
      "_view_name": "LayoutView",
      "align_content": null,
      "align_items": null,
      "align_self": null,
      "border": null,
      "bottom": null,
      "display": null,
      "flex": null,
      "flex_flow": null,
      "grid_area": null,
      "grid_auto_columns": null,
      "grid_auto_flow": null,
      "grid_auto_rows": null,
      "grid_column": null,
      "grid_gap": null,
      "grid_row": null,
      "grid_template_areas": null,
      "grid_template_columns": null,
      "grid_template_rows": null,
      "height": null,
      "justify_content": null,
      "justify_items": null,
      "left": null,
      "margin": null,
      "max_height": null,
      "max_width": null,
      "min_height": null,
      "min_width": null,
      "object_fit": null,
      "object_position": null,
      "order": null,
      "overflow": null,
      "overflow_x": null,
      "overflow_y": null,
      "padding": null,
      "right": null,
      "top": null,
      "visibility": null,
      "width": null
     }
    },
    "d2446881bd834420b918a814924aae7d": {
     "model_module": "@jupyter-widgets/base",
     "model_module_version": "1.2.0",
     "model_name": "LayoutModel",
     "state": {
      "_model_module": "@jupyter-widgets/base",
      "_model_module_version": "1.2.0",
      "_model_name": "LayoutModel",
      "_view_count": null,
      "_view_module": "@jupyter-widgets/base",
      "_view_module_version": "1.2.0",
      "_view_name": "LayoutView",
      "align_content": null,
      "align_items": null,
      "align_self": null,
      "border": null,
      "bottom": null,
      "display": null,
      "flex": null,
      "flex_flow": null,
      "grid_area": null,
      "grid_auto_columns": null,
      "grid_auto_flow": null,
      "grid_auto_rows": null,
      "grid_column": null,
      "grid_gap": null,
      "grid_row": null,
      "grid_template_areas": null,
      "grid_template_columns": null,
      "grid_template_rows": null,
      "height": null,
      "justify_content": null,
      "justify_items": null,
      "left": null,
      "margin": null,
      "max_height": null,
      "max_width": null,
      "min_height": null,
      "min_width": null,
      "object_fit": null,
      "object_position": null,
      "order": null,
      "overflow": null,
      "overflow_x": null,
      "overflow_y": null,
      "padding": null,
      "right": null,
      "top": null,
      "visibility": null,
      "width": null
     }
    },
    "d78fb57791c24efb9daf31b0f8c2d5f3": {
     "model_module": "@jupyter-widgets/base",
     "model_module_version": "1.2.0",
     "model_name": "LayoutModel",
     "state": {
      "_model_module": "@jupyter-widgets/base",
      "_model_module_version": "1.2.0",
      "_model_name": "LayoutModel",
      "_view_count": null,
      "_view_module": "@jupyter-widgets/base",
      "_view_module_version": "1.2.0",
      "_view_name": "LayoutView",
      "align_content": null,
      "align_items": null,
      "align_self": null,
      "border": null,
      "bottom": null,
      "display": null,
      "flex": null,
      "flex_flow": null,
      "grid_area": null,
      "grid_auto_columns": null,
      "grid_auto_flow": null,
      "grid_auto_rows": null,
      "grid_column": null,
      "grid_gap": null,
      "grid_row": null,
      "grid_template_areas": null,
      "grid_template_columns": null,
      "grid_template_rows": null,
      "height": null,
      "justify_content": null,
      "justify_items": null,
      "left": null,
      "margin": null,
      "max_height": null,
      "max_width": null,
      "min_height": null,
      "min_width": null,
      "object_fit": null,
      "object_position": null,
      "order": null,
      "overflow": null,
      "overflow_x": null,
      "overflow_y": null,
      "padding": null,
      "right": null,
      "top": null,
      "visibility": null,
      "width": null
     }
    },
    "dba824e664df42f985dde8c636ac58ba": {
     "model_module": "@jupyter-widgets/controls",
     "model_module_version": "1.5.0",
     "model_name": "FileUploadModel",
     "state": {
      "_counter": 0,
      "_dom_classes": [],
      "_model_module": "@jupyter-widgets/controls",
      "_model_module_version": "1.5.0",
      "_model_name": "FileUploadModel",
      "_view_count": null,
      "_view_module": "@jupyter-widgets/controls",
      "_view_module_version": "1.5.0",
      "_view_name": "FileUploadView",
      "accept": ".pdf",
      "button_style": "",
      "data": [],
      "description": "Upload",
      "description_tooltip": null,
      "disabled": false,
      "error": "",
      "icon": "upload",
      "layout": "IPY_MODEL_4d9d8dff135b478a94ed30fa676db612",
      "metadata": [],
      "multiple": false,
      "style": "IPY_MODEL_1f433ff33cf44e078f6d1df2099d8887"
     }
    },
    "e139e9b216e14127aa1a411e31adb3ca": {
     "model_module": "@jupyter-widgets/controls",
     "model_module_version": "1.5.0",
     "model_name": "DropdownModel",
     "state": {
      "_dom_classes": [],
      "_model_module": "@jupyter-widgets/controls",
      "_model_module_version": "1.5.0",
      "_model_name": "DropdownModel",
      "_options_labels": [
       "large"
      ],
      "_view_count": null,
      "_view_module": "@jupyter-widgets/controls",
      "_view_module_version": "1.5.0",
      "_view_name": "DropdownView",
      "description": "Mode:",
      "description_tooltip": null,
      "disabled": false,
      "index": 0,
      "layout": "IPY_MODEL_d78fb57791c24efb9daf31b0f8c2d5f3",
      "style": "IPY_MODEL_72c931136521423298edffdaf9677cb9"
     }
    },
    "e20f697a08e840aeb74afe7934f75f6d": {
     "model_module": "@jupyter-widgets/controls",
     "model_module_version": "1.5.0",
     "model_name": "ButtonModel",
     "state": {
      "_dom_classes": [],
      "_model_module": "@jupyter-widgets/controls",
      "_model_module_version": "1.5.0",
      "_model_name": "ButtonModel",
      "_view_count": null,
      "_view_module": "@jupyter-widgets/controls",
      "_view_module_version": "1.5.0",
      "_view_name": "ButtonView",
      "button_style": "primary",
      "description": "Parse PDF",
      "disabled": false,
      "icon": "",
      "layout": "IPY_MODEL_d2446881bd834420b918a814924aae7d",
      "style": "IPY_MODEL_71d9868418ea4f2f99ba8b0438580e25",
      "tooltip": ""
     }
    },
    "f7080a5e978c4b15b8f3fdf9f8c8fe63": {
     "model_module": "@jupyter-widgets/base",
     "model_module_version": "1.2.0",
     "model_name": "LayoutModel",
     "state": {
      "_model_module": "@jupyter-widgets/base",
      "_model_module_version": "1.2.0",
      "_model_name": "LayoutModel",
      "_view_count": null,
      "_view_module": "@jupyter-widgets/base",
      "_view_module_version": "1.2.0",
      "_view_name": "LayoutView",
      "align_content": null,
      "align_items": null,
      "align_self": null,
      "border": null,
      "bottom": null,
      "display": null,
      "flex": null,
      "flex_flow": null,
      "grid_area": null,
      "grid_auto_columns": null,
      "grid_auto_flow": null,
      "grid_auto_rows": null,
      "grid_column": null,
      "grid_gap": null,
      "grid_row": null,
      "grid_template_areas": null,
      "grid_template_columns": null,
      "grid_template_rows": null,
      "height": null,
      "justify_content": null,
      "justify_items": null,
      "left": null,
      "margin": null,
      "max_height": null,
      "max_width": null,
      "min_height": null,
      "min_width": null,
      "object_fit": null,
      "object_position": null,
      "order": null,
      "overflow": null,
      "overflow_x": null,
      "overflow_y": null,
      "padding": null,
      "right": null,
      "top": null,
      "visibility": null,
      "width": null
     }
    }
   }
  }
 },
 "nbformat": 4,
 "nbformat_minor": 0
}
