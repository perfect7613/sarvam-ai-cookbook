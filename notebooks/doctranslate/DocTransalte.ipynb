{
 "cells": [
  {
   "cell_type": "markdown",
   "metadata": {
    "id": "_BNl87u1SOim"
   },
   "source": [
    "# **Sarvam Doctranslate API Tutorial**\n",
    "\n",
    "This notebook demonstrates how to use the **Sarvam Doctranslate API** to translate PDF files from one language to another. The API supports custom translation dictionaries and allows you to translate specific pages of a PDF.\n",
    "\n",
    "\n",
    "\n",
    "# **1. Installation**\n",
    "\n",
    "Before you begin, ensure you have the necessary Python libraries installed. Run the following commands to install the required packages:\n"
   ]
  },
  {
   "cell_type": "code",
   "execution_count": 3,
   "metadata": {
    "colab": {
     "base_uri": "https://localhost:8080/"
    },
    "id": "a29kG-6uULOC",
    "outputId": "edcd4ad2-13de-422c-f99d-ffa8ba7dcfc8"
   },
   "outputs": [],
   "source": [
    "! pip install -Uqq requests ipywidgets"
   ]
  },
  {
   "cell_type": "markdown",
   "metadata": {
    "id": "7HTbbnOLUIHM"
   },
   "source": [
    "# **2. Setting Up the API Key**\n",
    "\n",
    "To use the Sarvam Doctranslate API, you need an API subscription key. Follow these steps to set up your API key:\n",
    "\n",
    "1. **Obtain your API key**: If you don’t have an API key, sign up on the [Sarvam AI platform](https://dashboard.sarvam.ai) to get one.\n",
    "2. **Enter your API key**: In the UI widget below, enter your API key in the \"API Key\" field.\n",
    "\n",
    "---\n",
    "\n",
    "# **3. Uploading PDF Files**\n",
    "\n",
    "To translate a PDF file, you need to upload it to the notebook. Follow these steps:\n",
    "\n",
    "1. **Prepare your PDF file**: Ensure your file is in `.pdf` format.\n",
    "2. **Upload the file**: Use the file upload widget below to upload your PDF file.\n"
   ]
  },
  {
   "cell_type": "markdown",
   "metadata": {
    "id": "WgbtF1JjSi_Y"
   },
   "source": [
    "# **4. Using the Sarvam Doctranslate API**\n",
    "\n",
    "This section demonstrates how to use the Sarvam Doctranslate API to translate a PDF file.\n",
    "\n",
    "## **4.1. Defining the `translate_pdf` Function**\n",
    "\n",
    "The `translate_pdf` function sends the PDF file to the Sarvam API and retrieves the translated PDF."
   ]
  },
  {
   "cell_type": "code",
   "execution_count": 2,
   "metadata": {
    "id": "Q2xf_u_cS4P8"
   },
   "outputs": [],
   "source": [
    "import requests\n",
    "import base64\n",
    "import json\n",
    "import tempfile\n",
    "import os\n",
    "\n",
    "\n",
    "\n",
    "def translate_pdf(\n",
    "    pdf_file_path, page_number, input_lang, output_lang, hard_translate_dict, api_key\n",
    "):\n",
    "    \"\"\"\n",
    "    Translates a PDF file using the Sarvam Doctranslate API.\n",
    "\n",
    "    Args:\n",
    "        pdf_file_path (str): Path to the PDF file.\n",
    "        page_number (int): Page number to translate (1-based index).\n",
    "        input_lang (str): Input language code (e.g., 'en-IN' for English).\n",
    "        output_lang (str): Output language code (e.g., 'hi-IN' for Hindi).\n",
    "        hard_translate_dict (dict): Custom translation dictionary (optional).\n",
    "        api_key (str): Your Sarvam API subscription key.\n",
    "\n",
    "    Returns:\n",
    "        str: Path to the translated PDF file or an error message.\n",
    "    \"\"\"\n",
    "    url = \"https://api.sarvam.ai/parse/translatepdf\"  # Doctranslate API URL\n",
    "    headers = {\"api-subscription-key\": api_key}\n",
    "\n",
    "    try:\n",
    "        with open(pdf_file_path, \"rb\") as pdf_file:\n",
    "            files = {\n",
    "                \"pdf\": pdf_file,  # Upload the PDF file for translation\n",
    "                \"page_number\": (None, str(page_number)),\n",
    "                \"input_lang\": (None, input_lang),\n",
    "                \"output_lang\": (None, output_lang),\n",
    "            }\n",
    "\n",
    "            # If a custom translation dictionary is provided\n",
    "            if hard_translate_dict:\n",
    "                files[\"hard_translate_dict\"] = (None, json.dumps(hard_translate_dict))\n",
    "\n",
    "            # Send POST request to the API\n",
    "            response = requests.post(url, headers=headers, files=files)\n",
    "\n",
    "            # Check if the request was successful\n",
    "            if response.status_code == 200:\n",
    "                translated_pdf_base64 = response.json().get(\"translated_pdf\", \"\")\n",
    "                if translated_pdf_base64:\n",
    "                    # Decode base64 to raw PDF\n",
    "                    decoded_pdf = base64.b64decode(translated_pdf_base64)\n",
    "                    output_pdf_path = \"translated_output.pdf\"\n",
    "\n",
    "                    # Save the translated PDF locally\n",
    "                    with open(output_pdf_path, \"wb\") as file:\n",
    "                        file.write(decoded_pdf)\n",
    "\n",
    "                    return output_pdf_path\n",
    "                else:\n",
    "                    return \"Translation failed. No data returned.\"\n",
    "            else:\n",
    "                return f\"❌ API Error ({response.status_code}): {response.text}\"\n",
    "\n",
    "    except Exception as e:\n",
    "        return f\"⚠️ An error occurred: {str(e)}\""
   ]
  },
  {
   "cell_type": "markdown",
   "metadata": {
    "id": "B4k1ptlnTCN5"
   },
   "source": [
    "\n",
    "## **4.2. Creating the UI Widgets**\n",
    "\n",
    "The following code creates interactive UI widgets for uploading the PDF file, selecting the page number, specifying input and output languages, providing a custom translation dictionary, and entering the API key."
   ]
  },
  {
   "cell_type": "code",
   "execution_count": 6,
   "metadata": {
    "id": "J5brq308THL-"
   },
   "outputs": [],
   "source": [
    "import ipywidgets as widgets\n",
    "from IPython.display import display, HTML\n",
    "\n",
    "# UI Widgets\n",
    "upload_widget = widgets.FileUpload(accept=\".pdf\", multiple=False)\n",
    "page_number_widget = widgets.IntText(value=1, description=\"Page No:\")\n",
    "input_lang_widget = widgets.Text(value=\"en-IN\", description=\"Input Lang:\")\n",
    "output_lang_widget = widgets.Text(value=\"hi-IN\", description=\"Output Lang:\")\n",
    "hard_translate_dict_widget = widgets.Text(description=\"Custom Dict (JSON format):\")\n",
    "api_key_widget = widgets.Password(description=\"API Key:\")\n",
    "parse_button = widgets.Button(description=\"Translate PDF\", button_style=\"primary\")"
   ]
  },
  {
   "cell_type": "markdown",
   "metadata": {
    "id": "jsUqQ0rXTLit"
   },
   "source": [
    "\n",
    "## **4.3. Handling PDF Translation**\n",
    "\n",
    "The `handle_translate` function processes the uploaded PDF file, calls the Sarvam API, and saves the translated PDF."
   ]
  },
  {
   "cell_type": "code",
   "execution_count": 4,
   "metadata": {
    "id": "zM1HX6lcTSxb"
   },
   "outputs": [],
   "source": [
    "def handle_translate(_):\n",
    "    \"\"\"\n",
    "    Handles the PDF translation process when the \"Translate PDF\" button is clicked.\n",
    "    \"\"\"\n",
    "    if not upload_widget.value:\n",
    "        return  # No file uploaded\n",
    "\n",
    "    # Step 1: Extract uploaded file content\n",
    "    uploaded_filename, file_data = next(iter(upload_widget.value.items()))\n",
    "    file_content = file_data[\"content\"]\n",
    "    temp_pdf_path = os.path.join(tempfile.gettempdir(), uploaded_filename)\n",
    "\n",
    "    with open(temp_pdf_path, \"wb\") as temp_file:\n",
    "        temp_file.write(file_content)\n",
    "\n",
    "    # Step 2: Collect user inputs\n",
    "    page_number = page_number_widget.value\n",
    "    input_lang = input_lang_widget.value\n",
    "    output_lang = output_lang_widget.value\n",
    "    api_key = api_key_widget.value\n",
    "\n",
    "    # Step 3: Parse custom dictionary if provided\n",
    "    hard_translate_dict = {}\n",
    "    dict_input = hard_translate_dict_widget.value\n",
    "    if dict_input:\n",
    "        try:\n",
    "            hard_translate_dict = json.loads(dict_input)\n",
    "        except json.JSONDecodeError:\n",
    "            display(HTML(\"<p style='color:red;'>❌ Invalid dictionary format. Proceeding without custom dictionary.</p>\"))\n",
    "\n",
    "    # Step 4: Show progress\n",
    "    display(HTML(f\"<p>📄 Translating <b>{uploaded_filename}</b>... Please wait.</p>\"))\n",
    "\n",
    "    # Step 5: Perform translation\n",
    "    translated_pdf_path = translate_pdf(\n",
    "        temp_pdf_path,\n",
    "        page_number,\n",
    "        input_lang,\n",
    "        output_lang,\n",
    "        hard_translate_dict,\n",
    "        api_key,\n",
    "    )\n",
    "\n",
    "    # Step 6: Show result or error\n",
    "    if translated_pdf_path.startswith(\"translated_output.pdf\"):\n",
    "        display(HTML(\"<p>✅ <b>Translation complete!</b> Your translated PDF has been downloaded.</p>\"))\n",
    "        files.download(translated_pdf_path)\n",
    "    else:\n",
    "        display(HTML(f\"<p style='color:red;'>❌ {translated_pdf_path}</p>\"))\n",
    "\n",
    "\n",
    "# Bind to button\n",
    "parse_button.on_click(handle_translate)\n"
   ]
  },
  {
   "cell_type": "markdown",
   "metadata": {
    "id": "o-uU_tAqTcT7"
   },
   "source": [
    "### **4.4. Displaying the UI**\n",
    "\n",
    "This section displays the UI widgets for uploading the PDF file, entering the page number, specifying input and output languages, providing a custom translation dictionary, and entering the API key."
   ]
  },
  {
   "cell_type": "code",
   "execution_count": 5,
   "metadata": {
    "colab": {
     "base_uri": "https://localhost:8080/",
     "height": 398,
     "referenced_widgets": [
      "6dd589d1e7134dc7bd4f9a503ba577bc",
      "a266ccd3a96645ca8c6bb1e0b983c307",
      "ffb1ce73ecbf48118dd17a6219ba98b8",
      "c360e5245cac47e38c664d3d4ae36a9f",
      "6a193d875b56494ab9390f51bf1b69c3",
      "0b228afce8cf4c8db270cacc9955b9ff",
      "72d0d03be56d4e5aa8f15b3022e130f0",
      "464408df7ee3472e898cdb1300641f2b",
      "4f015c81d72849dcab404a5c9e6e81f0",
      "426fb91775b64fdcb02d0cc8d79f3b78",
      "e0bf4702f7b64967821b1eb0eee592b8",
      "e97546f61ee84fadbf007e90a50f0876",
      "a334b25991c840cca8c16ccc4ad7a723",
      "6e56eddfc1a847579a53b1b666f69c77",
      "6446397914f04501847e95f4f4021bd9",
      "b5f0ef5eb69b4843ad78fc2d160d4da5",
      "a212b1ce7d134839815d04c64f30e570",
      "2df7c136c2e4460194454b0c364d9f73",
      "fad8ba449f87464fbecb9d0097140d59",
      "2c4856248913447ea37c9d427472c306",
      "82d8feba0178402680092adbf221e578"
     ]
    },
    "id": "V6ffuxlvTh-D",
    "outputId": "7d3ea8b8-7f96-4980-dea8-708c1d276668"
   },
   "outputs": [
    {
     "data": {
      "text/html": [
       "<h3>📄 Sarvam Doctranslate PDF Translator</h3><p>Upload a PDF file, enter translation details, and click 'Translate PDF' to start the translation.</p>"
      ],
      "text/plain": [
       "<IPython.core.display.HTML object>"
      ]
     },
     "metadata": {},
     "output_type": "display_data"
    },
    {
     "data": {
      "application/vnd.jupyter.widget-view+json": {
       "model_id": "cab1a341e31c4a1a879c9c6f3dcb303b",
       "version_major": 2,
       "version_minor": 0
      },
      "text/plain": [
       "FileUpload(value=(), accept='.pdf', description='Upload')"
      ]
     },
     "metadata": {},
     "output_type": "display_data"
    },
    {
     "data": {
      "application/vnd.jupyter.widget-view+json": {
       "model_id": "bc964969ef44456a90d68751c41af149",
       "version_major": 2,
       "version_minor": 0
      },
      "text/plain": [
       "IntText(value=1, description='Page No:')"
      ]
     },
     "metadata": {},
     "output_type": "display_data"
    },
    {
     "data": {
      "application/vnd.jupyter.widget-view+json": {
       "model_id": "fbab9553e5b642dfa351cc8c509c8748",
       "version_major": 2,
       "version_minor": 0
      },
      "text/plain": [
       "Text(value='en-IN', description='Input Lang:')"
      ]
     },
     "metadata": {},
     "output_type": "display_data"
    },
    {
     "data": {
      "application/vnd.jupyter.widget-view+json": {
       "model_id": "d4fccf6b138742fdbae27f6f40d43e01",
       "version_major": 2,
       "version_minor": 0
      },
      "text/plain": [
       "Text(value='hi-IN', description='Output Lang:')"
      ]
     },
     "metadata": {},
     "output_type": "display_data"
    },
    {
     "data": {
      "application/vnd.jupyter.widget-view+json": {
       "model_id": "76d9b4f3aa1443a0b87f85b09b6d7556",
       "version_major": 2,
       "version_minor": 0
      },
      "text/plain": [
       "Text(value='', description='Custom Dict (JSON format):')"
      ]
     },
     "metadata": {},
     "output_type": "display_data"
    },
    {
     "data": {
      "application/vnd.jupyter.widget-view+json": {
       "model_id": "c4689e7298a9480abb21874b9f3135d4",
       "version_major": 2,
       "version_minor": 0
      },
      "text/plain": [
       "Password(description='API Key:')"
      ]
     },
     "metadata": {},
     "output_type": "display_data"
    },
    {
     "data": {
      "application/vnd.jupyter.widget-view+json": {
       "model_id": "cf261bb57f2743c28fc8f31250449a42",
       "version_major": 2,
       "version_minor": 0
      },
      "text/plain": [
       "Button(button_style='primary', description='Translate PDF', style=ButtonStyle())"
      ]
     },
     "metadata": {},
     "output_type": "display_data"
    }
   ],
   "source": [
    "# Display UI\n",
    "display(\n",
    "    HTML(\n",
    "        \"<h3>📄 Sarvam Doctranslate PDF Translator</h3><p>Upload a PDF file, enter translation details, and click 'Translate PDF' to start the translation.</p>\"\n",
    "    )\n",
    ")\n",
    "display(\n",
    "    upload_widget,\n",
    "    page_number_widget,\n",
    "    input_lang_widget,\n",
    "    output_lang_widget,\n",
    "    hard_translate_dict_widget,\n",
    "    api_key_widget,\n",
    "    parse_button,\n",
    ")"
   ]
  },
  {
   "cell_type": "markdown",
   "metadata": {
    "id": "VRm4MSC6Tme5"
   },
   "source": [
    "# **5. Conclusion**\n",
    "\n",
    "This notebook demonstrated how to use the **Sarvam Doctranslate API** to translate PDF files from one language to another. By following the steps, you can:\n",
    "\n",
    "1. Upload a PDF file.\n",
    "2. Translate the file using the Sarvam API.\n",
    "3. Download the translated PDF for further use.\n",
    "\n",
    "---\n",
    "\n",
    "# **6. Additional Resources**\n",
    "\n",
    "For more details, refer to the official **Sarvam API documentation** and join the community for support:\n",
    "\n",
    "- **Documentation**: [docs.sarvam.ai](https://docs.sarvam.ai)  \n",
    "- **Community**: [Join the Discord Community](https://discord.gg/hTuVuPNF)\n",
    "\n",
    "---\n",
    "\n",
    "# **7. Final Notes**\n",
    "\n",
    "- Keep your API key secure.\n",
    "- Use the appropriate input and output language codes (e.g., `en-IN` for English, `hi-IN` for Hindi).\n",
    "- Explore advanced features like custom translation dictionaries for specialized terminology.\n",
    "\n",
    "Happy translating! 🚀"
   ]
  },
  {
   "cell_type": "code",
   "execution_count": 10,
   "metadata": {
    "id": "vrrfFV2OVaxk"
   },
   "outputs": [],
   "source": []
  }
 ],
 "metadata": {
  "colab": {
   "provenance": []
  },
  "kernelspec": {
   "display_name": ".venv",
   "language": "python",
   "name": "python3"
  },
  "language_info": {
   "codemirror_mode": {
    "name": "ipython",
    "version": 3
   },
   "file_extension": ".py",
   "mimetype": "text/x-python",
   "name": "python",
   "nbconvert_exporter": "python",
   "pygments_lexer": "ipython3",
   "version": "3.12.9"
  },
  "widgets": {
   "application/vnd.jupyter.widget-state+json": {
    "0b228afce8cf4c8db270cacc9955b9ff": {
     "model_module": "@jupyter-widgets/controls",
     "model_module_version": "1.5.0",
     "model_name": "DescriptionStyleModel",
     "state": {
      "_model_module": "@jupyter-widgets/controls",
      "_model_module_version": "1.5.0",
      "_model_name": "DescriptionStyleModel",
      "_view_count": null,
      "_view_module": "@jupyter-widgets/base",
      "_view_module_version": "1.2.0",
      "_view_name": "StyleView",
      "description_width": ""
     }
    },
    "2c4856248913447ea37c9d427472c306": {
     "model_module": "@jupyter-widgets/base",
     "model_module_version": "1.2.0",
     "model_name": "LayoutModel",
     "state": {
      "_model_module": "@jupyter-widgets/base",
      "_model_module_version": "1.2.0",
      "_model_name": "LayoutModel",
      "_view_count": null,
      "_view_module": "@jupyter-widgets/base",
      "_view_module_version": "1.2.0",
      "_view_name": "LayoutView",
      "align_content": null,
      "align_items": null,
      "align_self": null,
      "border": null,
      "bottom": null,
      "display": null,
      "flex": null,
      "flex_flow": null,
      "grid_area": null,
      "grid_auto_columns": null,
      "grid_auto_flow": null,
      "grid_auto_rows": null,
      "grid_column": null,
      "grid_gap": null,
      "grid_row": null,
      "grid_template_areas": null,
      "grid_template_columns": null,
      "grid_template_rows": null,
      "height": null,
      "justify_content": null,
      "justify_items": null,
      "left": null,
      "margin": null,
      "max_height": null,
      "max_width": null,
      "min_height": null,
      "min_width": null,
      "object_fit": null,
      "object_position": null,
      "order": null,
      "overflow": null,
      "overflow_x": null,
      "overflow_y": null,
      "padding": null,
      "right": null,
      "top": null,
      "visibility": null,
      "width": null
     }
    },
    "2df7c136c2e4460194454b0c364d9f73": {
     "model_module": "@jupyter-widgets/controls",
     "model_module_version": "1.5.0",
     "model_name": "DescriptionStyleModel",
     "state": {
      "_model_module": "@jupyter-widgets/controls",
      "_model_module_version": "1.5.0",
      "_model_name": "DescriptionStyleModel",
      "_view_count": null,
      "_view_module": "@jupyter-widgets/base",
      "_view_module_version": "1.2.0",
      "_view_name": "StyleView",
      "description_width": ""
     }
    },
    "426fb91775b64fdcb02d0cc8d79f3b78": {
     "model_module": "@jupyter-widgets/controls",
     "model_module_version": "1.5.0",
     "model_name": "TextModel",
     "state": {
      "_dom_classes": [],
      "_model_module": "@jupyter-widgets/controls",
      "_model_module_version": "1.5.0",
      "_model_name": "TextModel",
      "_view_count": null,
      "_view_module": "@jupyter-widgets/controls",
      "_view_module_version": "1.5.0",
      "_view_name": "TextView",
      "continuous_update": true,
      "description": "Output Lang:",
      "description_tooltip": null,
      "disabled": false,
      "layout": "IPY_MODEL_e0bf4702f7b64967821b1eb0eee592b8",
      "placeholder": "​",
      "style": "IPY_MODEL_e97546f61ee84fadbf007e90a50f0876",
      "value": "hi-IN"
     }
    },
    "464408df7ee3472e898cdb1300641f2b": {
     "model_module": "@jupyter-widgets/base",
     "model_module_version": "1.2.0",
     "model_name": "LayoutModel",
     "state": {
      "_model_module": "@jupyter-widgets/base",
      "_model_module_version": "1.2.0",
      "_model_name": "LayoutModel",
      "_view_count": null,
      "_view_module": "@jupyter-widgets/base",
      "_view_module_version": "1.2.0",
      "_view_name": "LayoutView",
      "align_content": null,
      "align_items": null,
      "align_self": null,
      "border": null,
      "bottom": null,
      "display": null,
      "flex": null,
      "flex_flow": null,
      "grid_area": null,
      "grid_auto_columns": null,
      "grid_auto_flow": null,
      "grid_auto_rows": null,
      "grid_column": null,
      "grid_gap": null,
      "grid_row": null,
      "grid_template_areas": null,
      "grid_template_columns": null,
      "grid_template_rows": null,
      "height": null,
      "justify_content": null,
      "justify_items": null,
      "left": null,
      "margin": null,
      "max_height": null,
      "max_width": null,
      "min_height": null,
      "min_width": null,
      "object_fit": null,
      "object_position": null,
      "order": null,
      "overflow": null,
      "overflow_x": null,
      "overflow_y": null,
      "padding": null,
      "right": null,
      "top": null,
      "visibility": null,
      "width": null
     }
    },
    "4f015c81d72849dcab404a5c9e6e81f0": {
     "model_module": "@jupyter-widgets/controls",
     "model_module_version": "1.5.0",
     "model_name": "DescriptionStyleModel",
     "state": {
      "_model_module": "@jupyter-widgets/controls",
      "_model_module_version": "1.5.0",
      "_model_name": "DescriptionStyleModel",
      "_view_count": null,
      "_view_module": "@jupyter-widgets/base",
      "_view_module_version": "1.2.0",
      "_view_name": "StyleView",
      "description_width": ""
     }
    },
    "6446397914f04501847e95f4f4021bd9": {
     "model_module": "@jupyter-widgets/controls",
     "model_module_version": "1.5.0",
     "model_name": "DescriptionStyleModel",
     "state": {
      "_model_module": "@jupyter-widgets/controls",
      "_model_module_version": "1.5.0",
      "_model_name": "DescriptionStyleModel",
      "_view_count": null,
      "_view_module": "@jupyter-widgets/base",
      "_view_module_version": "1.2.0",
      "_view_name": "StyleView",
      "description_width": ""
     }
    },
    "6a193d875b56494ab9390f51bf1b69c3": {
     "model_module": "@jupyter-widgets/base",
     "model_module_version": "1.2.0",
     "model_name": "LayoutModel",
     "state": {
      "_model_module": "@jupyter-widgets/base",
      "_model_module_version": "1.2.0",
      "_model_name": "LayoutModel",
      "_view_count": null,
      "_view_module": "@jupyter-widgets/base",
      "_view_module_version": "1.2.0",
      "_view_name": "LayoutView",
      "align_content": null,
      "align_items": null,
      "align_self": null,
      "border": null,
      "bottom": null,
      "display": null,
      "flex": null,
      "flex_flow": null,
      "grid_area": null,
      "grid_auto_columns": null,
      "grid_auto_flow": null,
      "grid_auto_rows": null,
      "grid_column": null,
      "grid_gap": null,
      "grid_row": null,
      "grid_template_areas": null,
      "grid_template_columns": null,
      "grid_template_rows": null,
      "height": null,
      "justify_content": null,
      "justify_items": null,
      "left": null,
      "margin": null,
      "max_height": null,
      "max_width": null,
      "min_height": null,
      "min_width": null,
      "object_fit": null,
      "object_position": null,
      "order": null,
      "overflow": null,
      "overflow_x": null,
      "overflow_y": null,
      "padding": null,
      "right": null,
      "top": null,
      "visibility": null,
      "width": null
     }
    },
    "6dd589d1e7134dc7bd4f9a503ba577bc": {
     "model_module": "@jupyter-widgets/controls",
     "model_module_version": "1.5.0",
     "model_name": "FileUploadModel",
     "state": {
      "_counter": 1,
      "_dom_classes": [],
      "_model_module": "@jupyter-widgets/controls",
      "_model_module_version": "1.5.0",
      "_model_name": "FileUploadModel",
      "_view_count": null,
      "_view_module": "@jupyter-widgets/controls",
      "_view_module_version": "1.5.0",
      "_view_name": "FileUploadView",
      "accept": ".pdf",
      "button_style": "",
      "data": [
       null
      ],
      "description": "Upload",
      "description_tooltip": null,
      "disabled": false,
      "error": "",
      "icon": "upload",
      "layout": "IPY_MODEL_a266ccd3a96645ca8c6bb1e0b983c307",
      "metadata": [
       {
        "lastModified": 1738132517227,
        "name": "who_moved_my_cheese.pdf",
        "size": 1929155,
        "type": "application/pdf"
       }
      ],
      "multiple": false,
      "style": "IPY_MODEL_ffb1ce73ecbf48118dd17a6219ba98b8"
     }
    },
    "6e56eddfc1a847579a53b1b666f69c77": {
     "model_module": "@jupyter-widgets/base",
     "model_module_version": "1.2.0",
     "model_name": "LayoutModel",
     "state": {
      "_model_module": "@jupyter-widgets/base",
      "_model_module_version": "1.2.0",
      "_model_name": "LayoutModel",
      "_view_count": null,
      "_view_module": "@jupyter-widgets/base",
      "_view_module_version": "1.2.0",
      "_view_name": "LayoutView",
      "align_content": null,
      "align_items": null,
      "align_self": null,
      "border": null,
      "bottom": null,
      "display": null,
      "flex": null,
      "flex_flow": null,
      "grid_area": null,
      "grid_auto_columns": null,
      "grid_auto_flow": null,
      "grid_auto_rows": null,
      "grid_column": null,
      "grid_gap": null,
      "grid_row": null,
      "grid_template_areas": null,
      "grid_template_columns": null,
      "grid_template_rows": null,
      "height": null,
      "justify_content": null,
      "justify_items": null,
      "left": null,
      "margin": null,
      "max_height": null,
      "max_width": null,
      "min_height": null,
      "min_width": null,
      "object_fit": null,
      "object_position": null,
      "order": null,
      "overflow": null,
      "overflow_x": null,
      "overflow_y": null,
      "padding": null,
      "right": null,
      "top": null,
      "visibility": null,
      "width": null
     }
    },
    "72d0d03be56d4e5aa8f15b3022e130f0": {
     "model_module": "@jupyter-widgets/controls",
     "model_module_version": "1.5.0",
     "model_name": "TextModel",
     "state": {
      "_dom_classes": [],
      "_model_module": "@jupyter-widgets/controls",
      "_model_module_version": "1.5.0",
      "_model_name": "TextModel",
      "_view_count": null,
      "_view_module": "@jupyter-widgets/controls",
      "_view_module_version": "1.5.0",
      "_view_name": "TextView",
      "continuous_update": true,
      "description": "Input Lang:",
      "description_tooltip": null,
      "disabled": false,
      "layout": "IPY_MODEL_464408df7ee3472e898cdb1300641f2b",
      "placeholder": "​",
      "style": "IPY_MODEL_4f015c81d72849dcab404a5c9e6e81f0",
      "value": "en-IN"
     }
    },
    "82d8feba0178402680092adbf221e578": {
     "model_module": "@jupyter-widgets/controls",
     "model_module_version": "1.5.0",
     "model_name": "ButtonStyleModel",
     "state": {
      "_model_module": "@jupyter-widgets/controls",
      "_model_module_version": "1.5.0",
      "_model_name": "ButtonStyleModel",
      "_view_count": null,
      "_view_module": "@jupyter-widgets/base",
      "_view_module_version": "1.2.0",
      "_view_name": "StyleView",
      "button_color": null,
      "font_weight": ""
     }
    },
    "a212b1ce7d134839815d04c64f30e570": {
     "model_module": "@jupyter-widgets/base",
     "model_module_version": "1.2.0",
     "model_name": "LayoutModel",
     "state": {
      "_model_module": "@jupyter-widgets/base",
      "_model_module_version": "1.2.0",
      "_model_name": "LayoutModel",
      "_view_count": null,
      "_view_module": "@jupyter-widgets/base",
      "_view_module_version": "1.2.0",
      "_view_name": "LayoutView",
      "align_content": null,
      "align_items": null,
      "align_self": null,
      "border": null,
      "bottom": null,
      "display": null,
      "flex": null,
      "flex_flow": null,
      "grid_area": null,
      "grid_auto_columns": null,
      "grid_auto_flow": null,
      "grid_auto_rows": null,
      "grid_column": null,
      "grid_gap": null,
      "grid_row": null,
      "grid_template_areas": null,
      "grid_template_columns": null,
      "grid_template_rows": null,
      "height": null,
      "justify_content": null,
      "justify_items": null,
      "left": null,
      "margin": null,
      "max_height": null,
      "max_width": null,
      "min_height": null,
      "min_width": null,
      "object_fit": null,
      "object_position": null,
      "order": null,
      "overflow": null,
      "overflow_x": null,
      "overflow_y": null,
      "padding": null,
      "right": null,
      "top": null,
      "visibility": null,
      "width": null
     }
    },
    "a266ccd3a96645ca8c6bb1e0b983c307": {
     "model_module": "@jupyter-widgets/base",
     "model_module_version": "1.2.0",
     "model_name": "LayoutModel",
     "state": {
      "_model_module": "@jupyter-widgets/base",
      "_model_module_version": "1.2.0",
      "_model_name": "LayoutModel",
      "_view_count": null,
      "_view_module": "@jupyter-widgets/base",
      "_view_module_version": "1.2.0",
      "_view_name": "LayoutView",
      "align_content": null,
      "align_items": null,
      "align_self": null,
      "border": null,
      "bottom": null,
      "display": null,
      "flex": null,
      "flex_flow": null,
      "grid_area": null,
      "grid_auto_columns": null,
      "grid_auto_flow": null,
      "grid_auto_rows": null,
      "grid_column": null,
      "grid_gap": null,
      "grid_row": null,
      "grid_template_areas": null,
      "grid_template_columns": null,
      "grid_template_rows": null,
      "height": null,
      "justify_content": null,
      "justify_items": null,
      "left": null,
      "margin": null,
      "max_height": null,
      "max_width": null,
      "min_height": null,
      "min_width": null,
      "object_fit": null,
      "object_position": null,
      "order": null,
      "overflow": null,
      "overflow_x": null,
      "overflow_y": null,
      "padding": null,
      "right": null,
      "top": null,
      "visibility": null,
      "width": null
     }
    },
    "a334b25991c840cca8c16ccc4ad7a723": {
     "model_module": "@jupyter-widgets/controls",
     "model_module_version": "1.5.0",
     "model_name": "TextModel",
     "state": {
      "_dom_classes": [],
      "_model_module": "@jupyter-widgets/controls",
      "_model_module_version": "1.5.0",
      "_model_name": "TextModel",
      "_view_count": null,
      "_view_module": "@jupyter-widgets/controls",
      "_view_module_version": "1.5.0",
      "_view_name": "TextView",
      "continuous_update": true,
      "description": "Custom Dict (JSON format):",
      "description_tooltip": null,
      "disabled": false,
      "layout": "IPY_MODEL_6e56eddfc1a847579a53b1b666f69c77",
      "placeholder": "​",
      "style": "IPY_MODEL_6446397914f04501847e95f4f4021bd9",
      "value": "{\"Who moved my cheese?\" : \"नमस्कार\"}"
     }
    },
    "b5f0ef5eb69b4843ad78fc2d160d4da5": {
     "model_module": "@jupyter-widgets/controls",
     "model_module_version": "1.5.0",
     "model_name": "PasswordModel",
     "state": {
      "_dom_classes": [],
      "_model_module": "@jupyter-widgets/controls",
      "_model_module_version": "1.5.0",
      "_model_name": "PasswordModel",
      "_view_count": null,
      "_view_module": "@jupyter-widgets/controls",
      "_view_module_version": "1.5.0",
      "_view_name": "PasswordView",
      "continuous_update": true,
      "description": "API Key:",
      "description_tooltip": null,
      "disabled": false,
      "layout": "IPY_MODEL_a212b1ce7d134839815d04c64f30e570",
      "placeholder": "​",
      "style": "IPY_MODEL_2df7c136c2e4460194454b0c364d9f73",
      "value": "d75d7bf3-b053-4084-ac80-c37561a35bfc"
     }
    },
    "c360e5245cac47e38c664d3d4ae36a9f": {
     "model_module": "@jupyter-widgets/controls",
     "model_module_version": "1.5.0",
     "model_name": "IntTextModel",
     "state": {
      "_dom_classes": [],
      "_model_module": "@jupyter-widgets/controls",
      "_model_module_version": "1.5.0",
      "_model_name": "IntTextModel",
      "_view_count": null,
      "_view_module": "@jupyter-widgets/controls",
      "_view_module_version": "1.5.0",
      "_view_name": "IntTextView",
      "continuous_update": false,
      "description": "Page No:",
      "description_tooltip": null,
      "disabled": false,
      "layout": "IPY_MODEL_6a193d875b56494ab9390f51bf1b69c3",
      "step": 1,
      "style": "IPY_MODEL_0b228afce8cf4c8db270cacc9955b9ff",
      "value": 3
     }
    },
    "e0bf4702f7b64967821b1eb0eee592b8": {
     "model_module": "@jupyter-widgets/base",
     "model_module_version": "1.2.0",
     "model_name": "LayoutModel",
     "state": {
      "_model_module": "@jupyter-widgets/base",
      "_model_module_version": "1.2.0",
      "_model_name": "LayoutModel",
      "_view_count": null,
      "_view_module": "@jupyter-widgets/base",
      "_view_module_version": "1.2.0",
      "_view_name": "LayoutView",
      "align_content": null,
      "align_items": null,
      "align_self": null,
      "border": null,
      "bottom": null,
      "display": null,
      "flex": null,
      "flex_flow": null,
      "grid_area": null,
      "grid_auto_columns": null,
      "grid_auto_flow": null,
      "grid_auto_rows": null,
      "grid_column": null,
      "grid_gap": null,
      "grid_row": null,
      "grid_template_areas": null,
      "grid_template_columns": null,
      "grid_template_rows": null,
      "height": null,
      "justify_content": null,
      "justify_items": null,
      "left": null,
      "margin": null,
      "max_height": null,
      "max_width": null,
      "min_height": null,
      "min_width": null,
      "object_fit": null,
      "object_position": null,
      "order": null,
      "overflow": null,
      "overflow_x": null,
      "overflow_y": null,
      "padding": null,
      "right": null,
      "top": null,
      "visibility": null,
      "width": null
     }
    },
    "e97546f61ee84fadbf007e90a50f0876": {
     "model_module": "@jupyter-widgets/controls",
     "model_module_version": "1.5.0",
     "model_name": "DescriptionStyleModel",
     "state": {
      "_model_module": "@jupyter-widgets/controls",
      "_model_module_version": "1.5.0",
      "_model_name": "DescriptionStyleModel",
      "_view_count": null,
      "_view_module": "@jupyter-widgets/base",
      "_view_module_version": "1.2.0",
      "_view_name": "StyleView",
      "description_width": ""
     }
    },
    "fad8ba449f87464fbecb9d0097140d59": {
     "model_module": "@jupyter-widgets/controls",
     "model_module_version": "1.5.0",
     "model_name": "ButtonModel",
     "state": {
      "_dom_classes": [],
      "_model_module": "@jupyter-widgets/controls",
      "_model_module_version": "1.5.0",
      "_model_name": "ButtonModel",
      "_view_count": null,
      "_view_module": "@jupyter-widgets/controls",
      "_view_module_version": "1.5.0",
      "_view_name": "ButtonView",
      "button_style": "primary",
      "description": "Translate PDF",
      "disabled": false,
      "icon": "",
      "layout": "IPY_MODEL_2c4856248913447ea37c9d427472c306",
      "style": "IPY_MODEL_82d8feba0178402680092adbf221e578",
      "tooltip": ""
     }
    },
    "ffb1ce73ecbf48118dd17a6219ba98b8": {
     "model_module": "@jupyter-widgets/controls",
     "model_module_version": "1.5.0",
     "model_name": "ButtonStyleModel",
     "state": {
      "_model_module": "@jupyter-widgets/controls",
      "_model_module_version": "1.5.0",
      "_model_name": "ButtonStyleModel",
      "_view_count": null,
      "_view_module": "@jupyter-widgets/base",
      "_view_module_version": "1.2.0",
      "_view_name": "StyleView",
      "button_color": null,
      "font_weight": ""
     }
    }
   }
  }
 },
 "nbformat": 4,
 "nbformat_minor": 0
}
