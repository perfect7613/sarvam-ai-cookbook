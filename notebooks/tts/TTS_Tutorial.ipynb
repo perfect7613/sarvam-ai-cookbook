{
 "cells": [
  {
   "cell_type": "markdown",
   "metadata": {
    "id": "3-IADGdpqr1r"
   },
   "source": [
    "# **Text-to-Speech Conversion using Sarvam AI API**\n",
    "\n",
    "This notebook demonstrates how to convert text into speech using the Sarvam AI Text-to-Speech API.The resulting audio files are saved as `.wav` files."
   ]
  },
  {
   "cell_type": "markdown",
   "metadata": {
    "id": "03ysDeEzq3cK"
   },
   "source": [
    "## **Prerequisites**\n",
    "\n",
    "Before running this notebook, ensure you have the following installed:\n",
    "\n",
    "- Python 3.7 or higher\n",
    "- Required Python packages: `sarvamai`\n",
    "\n",
    "You can install the required packages using pip:"
   ]
  },
  {
   "cell_type": "code",
   "execution_count": null,
   "metadata": {
    "colab": {
     "base_uri": "https://localhost:8080/"
    },
    "id": "yKyh-z3eq-Ss",
    "outputId": "c36864b8-66cf-4550-c0c9-12100a3e4feb"
   },
   "outputs": [],
   "source": [
    "! pip install -Uqq sarvamai"
   ]
  },
  {
   "cell_type": "markdown",
   "metadata": {
    "id": "vL9wgNLprBap"
   },
   "source": [
    "## **Import Required Libraries**\n",
    "\n",
    "First, let's import all the necessary libraries."
   ]
  },
  {
   "cell_type": "code",
   "execution_count": 2,
   "metadata": {
    "id": "f63ac1TJrIkb"
   },
   "outputs": [],
   "source": [
    "from sarvamai import SarvamAI\n",
    "from sarvamai.play import play, save"
   ]
  },
  {
   "cell_type": "markdown",
   "metadata": {
    "id": "26lnUT4MeOha"
   },
   "source": [
    "### **2. Call the API endpoint through the SDK, by passing API Parameters**\n",
    "\n",
    "To use the TTS Bulbul API, you need an API subscription key. Follow these steps to set up your API key:\n",
    "\n",
    "1. **Obtain your API key**: If you don’t have an API key, sign up on the [Sarvam AI Dashboard](https://dashboard.sarvam.ai/) to get one.\n",
    "2. **Replace the placeholder key**: In the code below, replace \"YOUR_SARVAM_AI_API_KEY\" with your actual API key."
   ]
  },
  {
   "cell_type": "code",
   "execution_count": 3,
   "metadata": {},
   "outputs": [],
   "source": [
    "SARVAM_API_KEY = \"YOUR_SARVAM_API_KEY\""
   ]
  },
  {
   "cell_type": "code",
   "execution_count": 5,
   "metadata": {},
   "outputs": [],
   "source": [
    "SARVAM_API_KEY=\"954b2595-6a49-49ec-8974-268a7cec4b69\""
   ]
  },
  {
   "cell_type": "code",
   "execution_count": 6,
   "metadata": {},
   "outputs": [],
   "source": [
    "client = SarvamAI(api_subscription_key=SARVAM_API_KEY)"
   ]
  },
  {
   "cell_type": "code",
   "execution_count": 7,
   "metadata": {
    "id": "uz68BWWKeDVa"
   },
   "outputs": [],
   "source": [
    "text = \"Netaji Subhash Marg से Dayanand Road की तरफ, south की तरफ़ जाने से शुरू करें। Dayanand Road पर पहुँचने के बाद, बाएँ मुड़ जाएँ। 350 meters तक सीधा चलते रहें।आपको बायें तरफ़, United Bank of India ATM दिखेगा। Dayanand School के दाएँ तरफ़ से गुजरने के बाद, बाएँ मुड़ें। 120 meters के बाद, Ghata Masjid Road पर, right turn करें। 280 meters तक चलते रहें। Mahatma Gandhi Marg पे रहें और, 2.9 kilometers तक Old Delhi की तरफ जाएँ। फिर, HC Sen Marg पर continue करें, और Paranthe Wali Gali तक drive करें।\""
   ]
  },
  {
   "cell_type": "markdown",
   "metadata": {},
   "source": [
    "## **Understanding the Parameters**  \n",
    "\n",
    "- `target_language_code`: The language of the text is BCP-47 format\n",
    "\n",
    "- `speaker`: The speaker voice to be used for the output audio.\n",
    "    - Female: Anushka, Manisha, Vidya, Arya\n",
    "    - Male: Abhilash, Karun, Hitesh\n",
    "\n",
    "- `pitch`: Controls the pitch of the audio. Lower values result in a deeper voice, while higher values make it sharper. The suitable range is between -0.75 and 0.75. Default is 0.0.\n",
    "\n",
    "- `pace`: Controls the speed of the audio. Lower values result in slower speech, while higher values make it faster. The suitable range is between 0.5 and 2.0. Default is 1.0.\n",
    "\n",
    "- `loudness`: Controls the loudness of the audio. Lower values result in quieter audio, while higher values make it louder. The suitable range is between 0.3 and 3.0. Default is 1.0.\n",
    "\n",
    "- `speech_sample_rate`: Specifies the sample rate of the output audio. Supported values are 8000, 16000, 22050, 24000 Hz. If not provided, the default is 22050 Hz.\n",
    "\n",
    "- `enable_preprocessing`: Controls whether normalization of English words and numeric entities (e.g., numbers, dates) is performed. Set to true for better handling of mixed-language text. Default is false.\n"
   ]
  },
  {
   "cell_type": "code",
   "execution_count": 8,
   "metadata": {},
   "outputs": [],
   "source": [
    "response = client.text_to_speech.convert(\n",
    "    text=text,\n",
    "    target_language_code=\"hi-IN\",\n",
    "    speaker=\"anushka\",\n",
    "    enable_preprocessing=True,\n",
    ")"
   ]
  },
  {
   "cell_type": "markdown",
   "metadata": {},
   "source": [
    "### **3. Save/Play the audio output from TTS**"
   ]
  },
  {
   "cell_type": "markdown",
   "metadata": {},
   "source": [
    "**To play audio, which you just inputted**"
   ]
  },
  {
   "cell_type": "code",
   "execution_count": 9,
   "metadata": {},
   "outputs": [],
   "source": [
    "play(response)"
   ]
  },
  {
   "cell_type": "markdown",
   "metadata": {},
   "source": [
    "**To save audio, which you just put for TTS to be saved**"
   ]
  },
  {
   "cell_type": "code",
   "execution_count": 10,
   "metadata": {},
   "outputs": [],
   "source": [
    "save(response, \"output.wav\")"
   ]
  },
  {
   "cell_type": "markdown",
   "metadata": {
    "id": "AYRy2TvfrmQM"
   },
   "source": [
    "## **Output**\n",
    "\n",
    "After running the notebook, you will have one  `output.wav` file containing the speech for the chunk of text you passed in notebook.\n",
    "\n",
    "## **Conclusion**\n",
    "This notebook provides a step-by-step guide to converting text into speech using the Sarvam AI API. You can modify the text, language, and other parameters to suit your specific needs.\n",
    "\n",
    "\n",
    "### **Additional Resources**\n",
    "\n",
    "For more details, refer to the our official documentation and we are always there to support and help you on our Discord Server:\n",
    "\n",
    "- **Documentation**: [docs.sarvam.ai](https://docs.sarvam.ai)  \n",
    "- **Community**: [Join the Discord Community](https://discord.gg/hTuVuPNF)\n",
    "\n",
    "---\n",
    "\n",
    "### **9. Final Notes**\n",
    "\n",
    "- Keep your API key secure.\n",
    "- Use clear audio for best results.\n",
    "\n",
    "**Keep Building!** 🚀"
   ]
  },
  {
   "cell_type": "markdown",
   "metadata": {},
   "source": []
  }
 ],
 "metadata": {
  "colab": {
   "provenance": []
  },
  "kernelspec": {
   "display_name": ".venv",
   "language": "python",
   "name": "python3"
  },
  "language_info": {
   "codemirror_mode": {
    "name": "ipython",
    "version": 3
   },
   "file_extension": ".py",
   "mimetype": "text/x-python",
   "name": "python",
   "nbconvert_exporter": "python",
   "pygments_lexer": "ipython3",
   "version": "3.12.9"
  }
 },
 "nbformat": 4,
 "nbformat_minor": 0
}
