{
 "cells": [
  {
   "cell_type": "markdown",
   "id": "65a7cced-4dc4-49de-a6ff-f99707cc25c5",
   "metadata": {},
   "source": [
    "# **Chat Completion API Using Sarvam Model**\n",
    "\n",
    "## **Overview**\n",
    "\n",
    "This notebook demonstrates how to use the **Sarvam Chat Completion API** to generate context-aware conversational responses. We will explore how to send messages, customize parameters like temperature and reasoning effort, and handle multi-turn conversations to build intelligent chat applications."
   ]
  },
  {
   "cell_type": "markdown",
   "id": "6886b435-59a8-46d4-b5f1-73a84c872ed4",
   "metadata": {},
   "source": [
    "## **1. Installation**\n",
    "\n",
    "Before you begin, ensure you have the necessary Python libraries installed. Run the following command in your terminal:"
   ]
  },
  {
   "cell_type": "code",
   "execution_count": null,
   "id": "f6f32004-e554-4802-9e7e-e03e01e19785",
   "metadata": {},
   "outputs": [],
   "source": [
    "! pip install -Uqq sarvamai"
   ]
  },
  {
   "cell_type": "code",
   "execution_count": null,
   "id": "3c050978",
   "metadata": {},
   "outputs": [],
   "source": [
    "from sarvamai import SarvamAI"
   ]
  },
  {
   "cell_type": "markdown",
   "id": "e0ccea8d-7cc7-4226-b411-149aa0f069b3",
   "metadata": {},
   "source": [
    "## **2. Set Up the API Endpoint and Payload**\n",
    "\n",
    "To use the Sarvam API, you need an API key. Follow these steps to set up your API key:\n",
    "\n",
    "1. **Obtain your API key**: If you don't have an API key, sign up on the [Sarvam AI Dashboard](https://dashboard.sarvam.ai/) to get one.  \n",
    "2. **Replace the placeholder key**: In the code below, replace `\"YOUR_API_KEY_HERE\"` with your actual API key.\n"
   ]
  },
  {
   "cell_type": "code",
   "execution_count": null,
   "id": "25887fea-9374-436c-abb0-f4cfbc1f30b2",
   "metadata": {},
   "outputs": [],
   "source": [
    "SARVAM_API_KEY = \"YOUR_API_KEY_HERE\""
   ]
  },
  {
   "cell_type": "markdown",
   "id": "9083aa1b-9f7f-4ca9-aa45-6e27b514b24e",
   "metadata": {},
   "source": [
    "### **2.1 Initialize the Client**\n",
    "\n",
    "Create a Sarvam client instance using your API key. This client will be used to interact with the Chat Completion API."
   ]
  },
  {
   "cell_type": "code",
   "execution_count": null,
   "id": "7c21bc5e-380b-4dc4-acce-af3b40f8cc77",
   "metadata": {},
   "outputs": [],
   "source": [
    "client = SarvamAI(api_subscription_key=SARVAM_API_KEY)"
   ]
  },
  {
   "cell_type": "markdown",
   "id": "3116a39f-94da-42b6-b9b6-f497ad310ea1",
   "metadata": {},
   "source": [
    "## **3. Making the API Request**\n",
    "\n",
    "### **3.1 Define Your Chat Messages**\n",
    "\n",
    "The `messages` parameter you send to the `chat.completions()` method must be a list of message objects, each with a `role` and `content`. \n",
    "\n",
    "The **role** defines who is \"speaking\" at each turn of the conversation. There are three possible roles:\n",
    "\n",
    "#### 1. `\"system\"` (Optional, but Recommended)\n",
    "\n",
    "- Used to set the behavior, tone, or instructions for the assistant.\n",
    "\n",
    "#### 2. `\"user\"` (Required)\n",
    "\n",
    "- Represents what the user asks or says.\n",
    "- You can have one or more user messages, especially in a multi-turn conversation.\n",
    "\n",
    "#### 3. `\"assistant\"` (Optional, only for context in multi-turn)\n",
    "- Represents what the assistant previously said.\n",
    "- Used when maintaining context in multi-turn conversations."
   ]
  },
  {
   "cell_type": "code",
   "execution_count": null,
   "id": "64a120b2-c013-4bd9-8ec9-a3b0bf4890f4",
   "metadata": {},
   "outputs": [],
   "source": [
    "messages = [\n",
    "    {\"role\": \"system\", \"content\": \"You are a helpful assistant.\"},\n",
    "    {\"role\": \"user\", \"content\": \"What is the capital of India?\"},\n",
    "]\n"
   ]
  },
  {
   "cell_type": "markdown",
   "id": "309f5e8d-13e3-4fb6-a6d1-0ec03f2dc00b",
   "metadata": {},
   "source": [
    "### **3.2 Send the Request and Display the Response**\n",
    "\n",
    "Use the SDK's `chat.completions()` method to send your messages and receive the assistant's reply.\n"
   ]
  },
  {
   "cell_type": "code",
   "execution_count": null,
   "id": "4a653d1b-36e7-409d-941b-966126c8f095",
   "metadata": {},
   "outputs": [],
   "source": [
    "response = client.chat.completions(\n",
    "    messages=messages,\n",
    ")\n",
    "\n",
    "# Extract and print the assistant's reply\n",
    "reply = response.choices[0].message.content\n",
    "print(\"Response:\", reply)\n"
   ]
  },
  {
   "cell_type": "markdown",
   "id": "70787e3f-bdef-42f2-9581-107c8cfb2a6a",
   "metadata": {},
   "source": [
    "## **4. Essential Parameters**\n",
    "\n",
    "| Parameter      | Type           | Required | Default | Description                                                        |\n",
    "|----------------|----------------|----------|---------|--------------------------------------------------------------------|\n",
    "| `model`        | string (enum)  | Yes      | —       | Model ID to use, e.g., `sarvam-m`.                                |\n",
    "| `messages`     | list of objects| Yes      | —       | Conversation messages with roles (`system`, `user`, `assistant`). |\n",
    "| `temperature`  | float          | No       | 0.2     | Controls randomness (0 to 2). Higher = more random output.        |\n",
    "| `top_p`        | float          | No       | 1       | Nucleus sampling (0 to 1). Alternative to `temperature`.          |\n",
    "| `reasoning_effort` | enum        | No       | —       | Depth of reasoning: `low`, `medium`, `high`.                      |                              |\n",
    "| `wiki_grounding` | boolean      | No       | false   | Enables retrieval from Wikipedia for factual answers.             |\n",
    "\n",
    "---\n",
    "\n",
    "## Key Considerations\n",
    "\n",
    "- **Maximum context length:** 4096 or 8192 tokens (depending on model).\n",
    "- **Temperature range:** 0 to 2  \n",
    "  - *Non-thinking mode:* 0.2 (recommended for straightforward responses)  \n",
    "  - *Thinking mode:* 0.5 or higher (recommended for deeper reasoning)  \n",
    "- **Top-p range:** 0 to 1 (use either `temperature` or `top_p`, not both).\n",
    "- **Reasoning effort:** Setting any value enables thinking mode. Higher values increase reasoning depth.\n",
    "- **Enable `wiki_grounding` for factual queries** requiring Wikipedia-based references.\n",
    "\n"
   ]
  },
  {
   "cell_type": "markdown",
   "id": "c9b072e4-3cf7-4234-b95b-458ddaa644dc",
   "metadata": {},
   "source": [
    "## **5. Example Codes**\n",
    "### **5.1: Basic Chat Completion**\n",
    "\n",
    "This example demonstrates a simple single-turn chat completion where the user asks a question and the model responds.\n"
   ]
  },
  {
   "cell_type": "code",
   "execution_count": null,
   "id": "e42c04d1-502f-475a-a1c7-a5ab31f362f0",
   "metadata": {},
   "outputs": [],
   "source": [
    "from sarvamai import SarvamAI\n",
    "\n",
    "client = SarvamAI(\n",
    "    api_subscription_key=\"YOUR_SARVAM_API_KEY\",\n",
    ")\n",
    "response = client.chat.completions(messages=[\n",
    "    {\"role\": \"user\", \"content\": \"Hey, what is the capital of India?\"}\n",
    "])\n",
    "print(response)\n"
   ]
  },
  {
   "cell_type": "markdown",
   "id": "94b5dbf4-e5dd-4e76-a441-3fa839c84d2b",
   "metadata": {},
   "source": [
    "### **5.2: Multi-turn Conversation**\n",
    "This example shows how to maintain context by including previous messages in a multi-turn conversation."
   ]
  },
  {
   "cell_type": "code",
   "execution_count": null,
   "id": "a5834a56-fc7b-4bde-aa94-5b9e7fad2815",
   "metadata": {},
   "outputs": [],
   "source": [
    "from sarvamai import SarvamAI\n",
    "\n",
    "client = SarvamAI(api_subscription_key=\"YOUR_SARVAM_API_KEY\")\n",
    "\n",
    "response = client.chat.completions(\n",
    "    messages=[\n",
    "        {\"role\": \"system\", \"content\": \"You are a helpful assistant.\"},\n",
    "        {\"role\": \"user\", \"content\": \"Tell me about Indian classical music.\"},\n",
    "        {\"role\": \"assistant\", \"content\": \"Indian classical music is one of the oldest musical traditions in the world...\"},\n",
    "        {\"role\": \"user\", \"content\": \"What are the two main styles?\"}\n",
    "    ],\n",
    "    temperature=0.7,\n",
    "    reasoning_effort=\"high\"\n",
    ")\n",
    "print(response.choices[0].message.content)\n"
   ]
  },
  {
   "cell_type": "markdown",
   "id": "7a88013a-00e0-4d44-b042-d31161f1c8e0",
   "metadata": {},
   "source": [
    "### **5.3: Wikipedia Grounded Query**\n",
    "This example demonstrates enabling wiki grounding to fetch fact-based answers using Wikipedia references."
   ]
  },
  {
   "cell_type": "code",
   "execution_count": null,
   "id": "e6aa5131-bb7d-47ee-ab5e-ab4ca3e95870",
   "metadata": {},
   "outputs": [],
   "source": [
    "from sarvamai import SarvamAI\n",
    "\n",
    "client = SarvamAI(api_subscription_key=\"YOUR_SARVAM_API_KEY\")\n",
    "\n",
    "response = client.chat.completions(\n",
    "    messages=[\n",
    "        {\"role\": \"user\", \"content\": \"What is the history of the Taj Mahal?\"}\n",
    "    ],\n",
    "    temperature=0.2,\n",
    "    top_p=1,\n",
    "    wiki_grounding=True\n",
    ")\n",
    "print(response.choices[0].message.content)\n"
   ]
  },
  {
   "cell_type": "markdown",
   "id": "37dc956d-831d-44cd-a4fd-1b29b4f97fff",
   "metadata": {},
   "source": [
    "## **6. Error Handling**  \n",
    "\n",
    "You may encounter these errors while using the API:  \n",
    "\n",
    "- **403 Forbidden** (`invalid_api_key_error`)  \n",
    "  - Cause: Invalid API key.  \n",
    "  - Solution: Use a valid API key from the [Sarvam AI Dashboard](https://dashboard.sarvam.ai/).  \n",
    "\n",
    "- **429 Too Many Requests** (`insufficient_quota_error`)  \n",
    "  - Cause: Exceeded API quota.  \n",
    "  - Solution: Check your usage, upgrade if needed, or implement exponential backoff when retrying.  \n",
    "\n",
    "- **500 Internal Server Error** (`internal_server_error`)  \n",
    "  - Cause: Issue on our servers.  \n",
    "  - Solution: Try again later. If persistent, contact support.  \n",
    "\n",
    "- **400 Bad Request** (`invalid_request_error`)  \n",
    "  - Cause: Incorrect request formatting.  \n",
    "  - Solution: Verify your request structure, and parameters.  \n",
    "\n",
    "- **422 Unprocessable Entity Request** (`unprocessable_entity_error`)  \n",
    "  - Cause: Unable to detect the language of the input text.\n",
    "  - Solution: Explicitly pass the source_language_code parameter with a supported language.\n",
    "\n"
   ]
  },
  {
   "cell_type": "markdown",
   "id": "72168fa0-41bb-4a0c-8a83-c49a0af11669",
   "metadata": {},
   "source": [
    "### **8. Additional Resources**\n",
    "\n",
    "For more details, refer to the our official documentation and we are always there to support and help you on our Discord Server:\n",
    "\n",
    "- **Documentation**: [docs.sarvam.ai](https://docs.sarvam.ai)  \n",
    "- **Community**: [Join the Discord Community](https://discord.gg/hTuVuPNF)\n",
    "\n",
    "\n",
    "### **9. Final Notes**\n",
    "\n",
    "- Keep your API key secure.\n",
    "- Use clear audio for best results.\n",
    "- Explore advanced features like diarization and translation.\n",
    "\n",
    "**Keep Building!** 🚀"
   ]
  },
  {
   "cell_type": "code",
   "execution_count": null,
   "id": "eaffd3c1-1c30-41ea-8b76-1daae85e9bbf",
   "metadata": {},
   "outputs": [],
   "source": []
  }
 ],
 "metadata": {
  "kernelspec": {
   "display_name": "Python 3 (ipykernel)",
   "language": "python",
   "name": "python3"
  },
  "language_info": {
   "codemirror_mode": {
    "name": "ipython",
    "version": 3
   },
   "file_extension": ".py",
   "mimetype": "text/x-python",
   "name": "python",
   "nbconvert_exporter": "python",
   "pygments_lexer": "ipython3",
   "version": "3.13.1"
  }
 },
 "nbformat": 4,
 "nbformat_minor": 5
}
